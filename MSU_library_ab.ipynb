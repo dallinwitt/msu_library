{
 "cells": [
  {
   "cell_type": "markdown",
   "metadata": {},
   "source": [
    "# Introduction\n",
    "\n",
    "To perform this A/B test, I used data from Montana State University's library website. They used Crazy Egg to gather data on how students interacted with different versions of the website.\n",
    "\n",
    "The primary difference between the five versions tested was the term used to describe the services the library offered. The description of what was available at this link did not change between the five versions. It reads:\n",
    "\n",
    "> Learn about the library and meet with us for research assistance, writing help, and tech support.\n",
    "\n",
    "The five headers used for the link for this section were: \"Interact,\" \"Connect,\" \"Learn,\" \"Help,\" and \"Services.\" \"Interact\" was the original term used, and is what will be referenced as the baseline value moving forward.\n",
    "\n",
    "The goal of this analysis is to determine which of these terms most successfully directed students towards this section of the website.\n",
    "\n",
    "The published article about this study is available from [University of Michigan Press](https://quod.lib.umich.edu/cgi/t/text/idx/w/weave/12535642.0001.101/--improving-library-user-experience-with-ab-testing-principles?rgn=main;view=fulltext).\n",
    "\n",
    "# 1. Importing\n",
    "## 1.1. Importing Packages\n",
    "\n",
    "Since I will be doing the analysis of this dataset in R, I will import the tidyverse package (which includes, among others, dplyr and ggplot2). To aid in the formatting of the graphs, I will also use the ggthemes package. Lastly, I will create a generalize linear model using the broom package."
   ]
  },
  {
   "cell_type": "code",
   "execution_count": 1,
   "metadata": {},
   "outputs": [
    {
     "name": "stderr",
     "output_type": "stream",
     "text": [
      "-- \u001b[1mAttaching packages\u001b[22m --------------------------------------- tidyverse 1.3.0 --\n",
      "\n",
      "\u001b[32mv\u001b[39m \u001b[34mggplot2\u001b[39m 3.3.0     \u001b[32mv\u001b[39m \u001b[34mpurrr  \u001b[39m 0.3.3\n",
      "\u001b[32mv\u001b[39m \u001b[34mtibble \u001b[39m 3.0.1     \u001b[32mv\u001b[39m \u001b[34mdplyr  \u001b[39m 0.8.4\n",
      "\u001b[32mv\u001b[39m \u001b[34mtidyr  \u001b[39m 1.1.0     \u001b[32mv\u001b[39m \u001b[34mstringr\u001b[39m 1.4.0\n",
      "\u001b[32mv\u001b[39m \u001b[34mreadr  \u001b[39m 1.3.1     \u001b[32mv\u001b[39m \u001b[34mforcats\u001b[39m 0.5.0\n",
      "\n",
      "-- \u001b[1mConflicts\u001b[22m ------------------------------------------ tidyverse_conflicts() --\n",
      "\u001b[31mx\u001b[39m \u001b[34mdplyr\u001b[39m::\u001b[32mfilter()\u001b[39m masks \u001b[34mstats\u001b[39m::filter()\n",
      "\u001b[31mx\u001b[39m \u001b[34mdplyr\u001b[39m::\u001b[32mlag()\u001b[39m    masks \u001b[34mstats\u001b[39m::lag()\n",
      "\n"
     ]
    }
   ],
   "source": [
    "library(tidyverse)\n",
    "library(ggthemes)\n",
    "library(broom)"
   ]
  },
  {
   "cell_type": "markdown",
   "metadata": {},
   "source": [
    "## 1.2. Importing Data\n",
    "While we are only interested in the data surrounding the \"Interact\" link, the data provided by the Crazy Egg service covers all of the elements on each of the pages. As a result, the data will have to be imported in four different dataframes."
   ]
  },
  {
   "cell_type": "code",
   "execution_count": 2,
   "metadata": {},
   "outputs": [],
   "source": [
    "#import the click data for each page version\n",
    "page0 <- read.csv(\"crazyegg_data\\\\page_v0.csv\")\n",
    "page1 <- read.csv(\"crazyegg_data\\\\page_v1.csv\")\n",
    "page2 <- read.csv(\"crazyegg_data\\\\page_v2.csv\")\n",
    "page3 <- read.csv(\"crazyegg_data\\\\page_v3.csv\")\n",
    "page4 <- read.csv(\"crazyegg_data\\\\page_v4.csv\")\n",
    "\n",
    "#import the file containing total clicks and visits for each page\n",
    "agg_data <- read.csv(\"crazyegg_data\\\\agg_data.csv\")"
   ]
  },
  {
   "cell_type": "markdown",
   "metadata": {},
   "source": [
    "# 2. Formatting Data\n",
    "The dataset is quite complete, but we will only be looking at the elements that differ between the five pages. Do get the data into a format that is most usable and human-readable, we will concatenate the page data together and inner merge it with the aggregate data. We will also make some other minor naming and formatting changes.\n",
    "\n",
    "To get the data that we will actually use to compare the treatments, we will also create two calculated columns for the proportion of clicks that were on the target element, and the proportion of visits that resulted in a click on the target element."
   ]
  },
  {
   "cell_type": "code",
   "execution_count": 3,
   "metadata": {},
   "outputs": [],
   "source": [
    "#concatenate the page dataframes so that they can be merged with agg_data\n",
    "page_data <- rbind(page0, page1, page2, page3, page4)"
   ]
  },
  {
   "cell_type": "code",
   "execution_count": 4,
   "metadata": {},
   "outputs": [
    {
     "data": {
      "text/html": [
       "<table>\n",
       "<thead><tr><th scope=col>name</th><th scope=col>ï..version</th><th scope=col>live_time</th><th scope=col>visits</th><th scope=col>clicks</th><th scope=col>No..clicks</th></tr></thead>\n",
       "<tbody>\n",
       "\t<tr><td>CONNECT    </td><td>1          </td><td>20:07:34:00</td><td> 2742      </td><td>1587       </td><td>53         </td></tr>\n",
       "\t<tr><td>HELP       </td><td>3          </td><td>20:04:59:00</td><td> 3180      </td><td>1717       </td><td>38         </td></tr>\n",
       "\t<tr><td>INTERACT   </td><td>0          </td><td>20:04:21:00</td><td>10283      </td><td>3714       </td><td>42         </td></tr>\n",
       "\t<tr><td>LEARN      </td><td>2          </td><td>20:12:21:00</td><td> 2747      </td><td>1652       </td><td>21         </td></tr>\n",
       "\t<tr><td>SERVICES   </td><td>4          </td><td>20:04:59:00</td><td> 2064      </td><td>1348       </td><td>45         </td></tr>\n",
       "</tbody>\n",
       "</table>\n"
      ],
      "text/latex": [
       "\\begin{tabular}{r|llllll}\n",
       " name & ï..version & live\\_time & visits & clicks & No..clicks\\\\\n",
       "\\hline\n",
       "\t CONNECT     & 1           & 20:07:34:00 &  2742       & 1587        & 53         \\\\\n",
       "\t HELP        & 3           & 20:04:59:00 &  3180       & 1717        & 38         \\\\\n",
       "\t INTERACT    & 0           & 20:04:21:00 & 10283       & 3714        & 42         \\\\\n",
       "\t LEARN       & 2           & 20:12:21:00 &  2747       & 1652        & 21         \\\\\n",
       "\t SERVICES    & 4           & 20:04:59:00 &  2064       & 1348        & 45         \\\\\n",
       "\\end{tabular}\n"
      ],
      "text/markdown": [
       "\n",
       "| name | ï..version | live_time | visits | clicks | No..clicks |\n",
       "|---|---|---|---|---|---|\n",
       "| CONNECT     | 1           | 20:07:34:00 |  2742       | 1587        | 53          |\n",
       "| HELP        | 3           | 20:04:59:00 |  3180       | 1717        | 38          |\n",
       "| INTERACT    | 0           | 20:04:21:00 | 10283       | 3714        | 42          |\n",
       "| LEARN       | 2           | 20:12:21:00 |  2747       | 1652        | 21          |\n",
       "| SERVICES    | 4           | 20:04:59:00 |  2064       | 1348        | 45          |\n",
       "\n"
      ],
      "text/plain": [
       "  name     ï..version live_time   visits clicks No..clicks\n",
       "1 CONNECT  1          20:07:34:00  2742  1587   53        \n",
       "2 HELP     3          20:04:59:00  3180  1717   38        \n",
       "3 INTERACT 0          20:04:21:00 10283  3714   42        \n",
       "4 LEARN    2          20:12:21:00  2747  1652   21        \n",
       "5 SERVICES 4          20:04:59:00  2064  1348   45        "
      ]
     },
     "metadata": {},
     "output_type": "display_data"
    }
   ],
   "source": [
    "#merge the two dataframes on page_data$name and agg_data$name\n",
    "joined <- merge(agg_data, page_data, by.x = 'name', by.y = 'Name', all.x = TRUE)\n",
    "\n",
    "#select the name, visits, clicks, and number of clicks cols\n",
    "joined <- subset(joined, select = c(1:5, 8))\n",
    "joined"
   ]
  },
  {
   "cell_type": "code",
   "execution_count": 5,
   "metadata": {},
   "outputs": [
    {
     "data": {
      "text/html": [
       "<table>\n",
       "<thead><tr><th scope=col>name</th><th scope=col>page_version</th><th scope=col>live_time</th><th scope=col>page_visits</th><th scope=col>page_clicks</th><th scope=col>element_clicks</th></tr></thead>\n",
       "<tbody>\n",
       "\t<tr><td>CONNECT    </td><td>1          </td><td>20:07:34:00</td><td> 2742      </td><td>1587       </td><td>53         </td></tr>\n",
       "\t<tr><td>HELP       </td><td>3          </td><td>20:04:59:00</td><td> 3180      </td><td>1717       </td><td>38         </td></tr>\n",
       "\t<tr><td>INTERACT   </td><td>0          </td><td>20:04:21:00</td><td>10283      </td><td>3714       </td><td>42         </td></tr>\n",
       "\t<tr><td>LEARN      </td><td>2          </td><td>20:12:21:00</td><td> 2747      </td><td>1652       </td><td>21         </td></tr>\n",
       "\t<tr><td>SERVICES   </td><td>4          </td><td>20:04:59:00</td><td> 2064      </td><td>1348       </td><td>45         </td></tr>\n",
       "</tbody>\n",
       "</table>\n"
      ],
      "text/latex": [
       "\\begin{tabular}{r|llllll}\n",
       " name & page\\_version & live\\_time & page\\_visits & page\\_clicks & element\\_clicks\\\\\n",
       "\\hline\n",
       "\t CONNECT     & 1           & 20:07:34:00 &  2742       & 1587        & 53         \\\\\n",
       "\t HELP        & 3           & 20:04:59:00 &  3180       & 1717        & 38         \\\\\n",
       "\t INTERACT    & 0           & 20:04:21:00 & 10283       & 3714        & 42         \\\\\n",
       "\t LEARN       & 2           & 20:12:21:00 &  2747       & 1652        & 21         \\\\\n",
       "\t SERVICES    & 4           & 20:04:59:00 &  2064       & 1348        & 45         \\\\\n",
       "\\end{tabular}\n"
      ],
      "text/markdown": [
       "\n",
       "| name | page_version | live_time | page_visits | page_clicks | element_clicks |\n",
       "|---|---|---|---|---|---|\n",
       "| CONNECT     | 1           | 20:07:34:00 |  2742       | 1587        | 53          |\n",
       "| HELP        | 3           | 20:04:59:00 |  3180       | 1717        | 38          |\n",
       "| INTERACT    | 0           | 20:04:21:00 | 10283       | 3714        | 42          |\n",
       "| LEARN       | 2           | 20:12:21:00 |  2747       | 1652        | 21          |\n",
       "| SERVICES    | 4           | 20:04:59:00 |  2064       | 1348        | 45          |\n",
       "\n"
      ],
      "text/plain": [
       "  name     page_version live_time   page_visits page_clicks element_clicks\n",
       "1 CONNECT  1            20:07:34:00  2742       1587        53            \n",
       "2 HELP     3            20:04:59:00  3180       1717        38            \n",
       "3 INTERACT 0            20:04:21:00 10283       3714        42            \n",
       "4 LEARN    2            20:12:21:00  2747       1652        21            \n",
       "5 SERVICES 4            20:04:59:00  2064       1348        45            "
      ]
     },
     "metadata": {},
     "output_type": "display_data"
    }
   ],
   "source": [
    "#renames the columns\n",
    "colnames(joined) = c('name', 'page_version', 'live_time', 'page_visits', 'page_clicks', 'element_clicks')\n",
    "joined"
   ]
  },
  {
   "cell_type": "code",
   "execution_count": 6,
   "metadata": {},
   "outputs": [
    {
     "data": {
      "text/html": [
       "<table>\n",
       "<thead><tr><th scope=col>name</th><th scope=col>page_version</th><th scope=col>live_time</th><th scope=col>page_visits</th><th scope=col>page_clicks</th><th scope=col>element_clicks</th><th scope=col>visit_conversion</th><th scope=col>click_rate</th></tr></thead>\n",
       "<tbody>\n",
       "\t<tr><td>CONNECT    </td><td>1          </td><td>20:07:34:00</td><td> 2742      </td><td>1587       </td><td>53         </td><td>0.019328957</td><td>0.03339635 </td></tr>\n",
       "\t<tr><td>HELP       </td><td>3          </td><td>20:04:59:00</td><td> 3180      </td><td>1717       </td><td>38         </td><td>0.011949686</td><td>0.02213162 </td></tr>\n",
       "\t<tr><td>INTERACT   </td><td>0          </td><td>20:04:21:00</td><td>10283      </td><td>3714       </td><td>42         </td><td>0.004084411</td><td>0.01130856 </td></tr>\n",
       "\t<tr><td>LEARN      </td><td>2          </td><td>20:12:21:00</td><td> 2747      </td><td>1652       </td><td>21         </td><td>0.007644703</td><td>0.01271186 </td></tr>\n",
       "\t<tr><td>SERVICES   </td><td>4          </td><td>20:04:59:00</td><td> 2064      </td><td>1348       </td><td>45         </td><td>0.021802326</td><td>0.03338279 </td></tr>\n",
       "</tbody>\n",
       "</table>\n"
      ],
      "text/latex": [
       "\\begin{tabular}{r|llllllll}\n",
       " name & page\\_version & live\\_time & page\\_visits & page\\_clicks & element\\_clicks & visit\\_conversion & click\\_rate\\\\\n",
       "\\hline\n",
       "\t CONNECT     & 1           & 20:07:34:00 &  2742       & 1587        & 53          & 0.019328957 & 0.03339635 \\\\\n",
       "\t HELP        & 3           & 20:04:59:00 &  3180       & 1717        & 38          & 0.011949686 & 0.02213162 \\\\\n",
       "\t INTERACT    & 0           & 20:04:21:00 & 10283       & 3714        & 42          & 0.004084411 & 0.01130856 \\\\\n",
       "\t LEARN       & 2           & 20:12:21:00 &  2747       & 1652        & 21          & 0.007644703 & 0.01271186 \\\\\n",
       "\t SERVICES    & 4           & 20:04:59:00 &  2064       & 1348        & 45          & 0.021802326 & 0.03338279 \\\\\n",
       "\\end{tabular}\n"
      ],
      "text/markdown": [
       "\n",
       "| name | page_version | live_time | page_visits | page_clicks | element_clicks | visit_conversion | click_rate |\n",
       "|---|---|---|---|---|---|---|---|\n",
       "| CONNECT     | 1           | 20:07:34:00 |  2742       | 1587        | 53          | 0.019328957 | 0.03339635  |\n",
       "| HELP        | 3           | 20:04:59:00 |  3180       | 1717        | 38          | 0.011949686 | 0.02213162  |\n",
       "| INTERACT    | 0           | 20:04:21:00 | 10283       | 3714        | 42          | 0.004084411 | 0.01130856  |\n",
       "| LEARN       | 2           | 20:12:21:00 |  2747       | 1652        | 21          | 0.007644703 | 0.01271186  |\n",
       "| SERVICES    | 4           | 20:04:59:00 |  2064       | 1348        | 45          | 0.021802326 | 0.03338279  |\n",
       "\n"
      ],
      "text/plain": [
       "  name     page_version live_time   page_visits page_clicks element_clicks\n",
       "1 CONNECT  1            20:07:34:00  2742       1587        53            \n",
       "2 HELP     3            20:04:59:00  3180       1717        38            \n",
       "3 INTERACT 0            20:04:21:00 10283       3714        42            \n",
       "4 LEARN    2            20:12:21:00  2747       1652        21            \n",
       "5 SERVICES 4            20:04:59:00  2064       1348        45            \n",
       "  visit_conversion click_rate\n",
       "1 0.019328957      0.03339635\n",
       "2 0.011949686      0.02213162\n",
       "3 0.004084411      0.01130856\n",
       "4 0.007644703      0.01271186\n",
       "5 0.021802326      0.03338279"
      ]
     },
     "metadata": {},
     "output_type": "display_data"
    }
   ],
   "source": [
    "#create the two calcuated columns about the target element\n",
    "joined <- joined %>%\n",
    "    mutate(visit_conversion = element_clicks / page_visits, click_rate = element_clicks / page_clicks)\n",
    "\n",
    "joined"
   ]
  },
  {
   "cell_type": "markdown",
   "metadata": {},
   "source": [
    "# 3. Data Analysis\n",
    "Next, we will analyze the statistical significance of the difference between the five iterations of the website.\n",
    "\n",
    "First, we will plot the conversion rate and click rate for the five different versions of the web page.\n",
    "\n",
    "## 3.1 Plot the Results of the A/B Test\n",
    "In order to visualize the impact that each word had on click rate and conversion, we can create a bar graph that shows the rates for each word."
   ]
  },
  {
   "cell_type": "code",
   "execution_count": 7,
   "metadata": {},
   "outputs": [
    {
     "data": {
      "image/png": "[encoded data removed]",
      "text/plain": [
       "plot without title"
      ]
     },
     "metadata": {
      "image/png": {
       "height": 420,
       "width": 420
      }
     },
     "output_type": "display_data"
    }
   ],
   "source": [
    "#plot the different visit conversion rates for the page\n",
    "ggplot(joined, aes(x = reorder(name, page_version), y = visit_conversion))+\n",
    "    geom_col(fill = 'LightBlue')+\n",
    "    theme_few()+\n",
    "    labs(y = \"Visitor Conversion Rate\", x = \"\")+\n",
    "    theme(axis.text.x = element_text(angle = -45, hjust = 0, vjust = 1))"
   ]
  },
  {
   "cell_type": "markdown",
   "metadata": {},
   "source": [
    "Based on this graph, every one of the alternates seems to be better than the baseline option of \"Interact.\" Next, we will plot the click rate to see if a similar pattern emerges."
   ]
  },
  {
   "cell_type": "code",
   "execution_count": 8,
   "metadata": {},
   "outputs": [
    {
     "data": {
      "image/png": "[encoded data removed]",
      "text/plain": [
       "plot without title"
      ]
     },
     "metadata": {
      "image/png": {
       "height": 420,
       "width": 420
      }
     },
     "output_type": "display_data"
    }
   ],
   "source": [
    "#plot the different click rates for the target elements\n",
    "ggplot(joined, aes(x = reorder(name, page_version), y = click_rate))+\n",
    "    geom_col(fill = 'LightBlue')+\n",
    "    theme_few()+\n",
    "    labs(y = \"Click Rate\", x = \"\")+\n",
    "    theme(axis.text.x = element_text(angle = -45, hjust = 0, vjust = 1))"
   ]
  },
  {
   "cell_type": "markdown",
   "metadata": {},
   "source": [
    "This bar graph looks very similar to the other, with \"Interact\" being the least clicked option, and \"Connect\" and \"Services\" appearing to perform the best. By both metrics, the top two option outperformed the baseline option by more than a factor of three.\n",
    "\n",
    "To measure the level of this effect, we will create a generalized linear model for this dataset. \n",
    "\n",
    "## 3.2 Generalized Linear Model (GLM)\n",
    "To determine the significance of the effect that each term had, we can create a GLM. Before we do that, though, we have to create granular data where none exists. We know the number of visits, as well as the number of conversions, for each treatment, so we can generate proxy user-level data to analyze using a GLM."
   ]
  },
  {
   "cell_type": "code",
   "execution_count": 9,
   "metadata": {},
   "outputs": [
    {
     "name": "stdout",
     "output_type": "stream",
     "text": [
      "'data.frame':\t10018 obs. of  2 variables:\n",
      " $ page : Factor w/ 5 levels \"INTERACT\",\"CONNECT\",..: 1 1 1 1 1 1 1 1 1 1 ...\n",
      " $ click: num  1 1 1 1 1 1 1 1 1 1 ...\n"
     ]
    }
   ],
   "source": [
    "#create the five dataframes for click rate\n",
    "click <- c(rep(1, times=42), rep(0, times = 3714-42))\n",
    "page <- rep('INTERACT', times = 3714)\n",
    "proxy0 <- data.frame(page, click)\n",
    "\n",
    "click <- c(rep(1, times=53), rep(0, times = 1587-53))\n",
    "page <- rep('CONNECT', times = 1587)\n",
    "proxy1 <- data.frame(page, click)\n",
    "\n",
    "click <- c(rep(1, times=21), rep(0, times = 1652-21))\n",
    "page <- rep('LEARN', times = 1652)\n",
    "proxy2 <- data.frame(page, click)\n",
    "\n",
    "click <- c(rep(1, times=38), rep(0, times = 1717-38))\n",
    "page <- rep('HELP', times = 1717)\n",
    "proxy3 <- data.frame(page, click)\n",
    "\n",
    "click <- c(rep(1, times=45), rep(0, times = 1348-45))\n",
    "page <- rep('SERVICES', times = 1348)\n",
    "proxy4 <- data.frame(page, click)\n",
    "\n",
    "#vertically concatenate the five dfs together into one\n",
    "proxy_df <- rbind(proxy0, proxy1, proxy2, proxy3, proxy4)\n",
    "\n",
    "str(proxy_df)"
   ]
  },
  {
   "cell_type": "code",
   "execution_count": 10,
   "metadata": {},
   "outputs": [
    {
     "data": {
      "text/html": [
       "<table>\n",
       "<thead><tr><th scope=col>term</th><th scope=col>estimate</th><th scope=col>std.error</th><th scope=col>statistic</th><th scope=col>p.value</th></tr></thead>\n",
       "<tbody>\n",
       "\t<tr><td>(Intercept)  </td><td>-4.4708221   </td><td>0.1551829    </td><td>-28.8100236  </td><td>1.606471e-182</td></tr>\n",
       "\t<tr><td>pageCONNECT  </td><td> 1.1054801   </td><td>0.2088098    </td><td>  5.2941959  </td><td> 1.195412e-07</td></tr>\n",
       "\t<tr><td>pageLEARN    </td><td> 0.1183960   </td><td>0.2689123    </td><td>  0.4402773  </td><td> 6.597363e-01</td></tr>\n",
       "\t<tr><td>pageHELP     </td><td> 0.6824546   </td><td>0.2258165    </td><td>  3.0221642  </td><td> 2.509743e-03</td></tr>\n",
       "\t<tr><td>pageSERVICES </td><td> 1.1050600   </td><td>0.2169595    </td><td>  5.0933943  </td><td> 3.517092e-07</td></tr>\n",
       "</tbody>\n",
       "</table>\n"
      ],
      "text/latex": [
       "\\begin{tabular}{r|lllll}\n",
       " term & estimate & std.error & statistic & p.value\\\\\n",
       "\\hline\n",
       "\t (Intercept)   & -4.4708221    & 0.1551829     & -28.8100236   & 1.606471e-182\\\\\n",
       "\t pageCONNECT   &  1.1054801    & 0.2088098     &   5.2941959   &  1.195412e-07\\\\\n",
       "\t pageLEARN     &  0.1183960    & 0.2689123     &   0.4402773   &  6.597363e-01\\\\\n",
       "\t pageHELP      &  0.6824546    & 0.2258165     &   3.0221642   &  2.509743e-03\\\\\n",
       "\t pageSERVICES  &  1.1050600    & 0.2169595     &   5.0933943   &  3.517092e-07\\\\\n",
       "\\end{tabular}\n"
      ],
      "text/markdown": [
       "\n",
       "| term | estimate | std.error | statistic | p.value |\n",
       "|---|---|---|---|---|\n",
       "| (Intercept)   | -4.4708221    | 0.1551829     | -28.8100236   | 1.606471e-182 |\n",
       "| pageCONNECT   |  1.1054801    | 0.2088098     |   5.2941959   |  1.195412e-07 |\n",
       "| pageLEARN     |  0.1183960    | 0.2689123     |   0.4402773   |  6.597363e-01 |\n",
       "| pageHELP      |  0.6824546    | 0.2258165     |   3.0221642   |  2.509743e-03 |\n",
       "| pageSERVICES  |  1.1050600    | 0.2169595     |   5.0933943   |  3.517092e-07 |\n",
       "\n"
      ],
      "text/plain": [
       "  term         estimate   std.error statistic   p.value      \n",
       "1 (Intercept)  -4.4708221 0.1551829 -28.8100236 1.606471e-182\n",
       "2 pageCONNECT   1.1054801 0.2088098   5.2941959  1.195412e-07\n",
       "3 pageLEARN     0.1183960 0.2689123   0.4402773  6.597363e-01\n",
       "4 pageHELP      0.6824546 0.2258165   3.0221642  2.509743e-03\n",
       "5 pageSERVICES  1.1050600 0.2169595   5.0933943  3.517092e-07"
      ]
     },
     "metadata": {},
     "output_type": "display_data"
    }
   ],
   "source": [
    "#use a glm to determine the p-value of the difference in click rates\n",
    "glm(click~page, family = 'binomial', data = proxy_df)%>%\n",
    "    tidy()"
   ]
  },
  {
   "cell_type": "markdown",
   "metadata": {},
   "source": [
    "As expected, the \"Connect\" and \"Services\" versions exhibit an improvement over \"Interact\" that is highly statistically significant. \n",
    "\n",
    "# Conclusion\n",
    "Both \"Connect\" and \"Services\" showed radical improvements (on the order of 3x) in both click rate as well as visit conversion rate. Analysis of a proxy dataset generated from the aggregated data indicated that this improvement was highly statistically  significant, and had a meaningful impact on user interaction and experience."
   ]
  },
  {
   "cell_type": "code",
   "execution_count": null,
   "metadata": {},
   "outputs": [],
   "source": []
  }
 ],
 "metadata": {
  "kernelspec": {
   "display_name": "R",
   "language": "R",
   "name": "ir"
  },
  "language_info": {
   "codemirror_mode": "r",
   "file_extension": ".r",
   "mimetype": "text/x-r-source",
   "name": "R",
   "pygments_lexer": "r",
   "version": "3.6.3"
  }
 },
 "nbformat": 4,
 "nbformat_minor": 4
}
